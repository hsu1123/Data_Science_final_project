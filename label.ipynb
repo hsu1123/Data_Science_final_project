{
 "cells": [
  {
   "cell_type": "code",
   "execution_count": 1,
   "metadata": {},
   "outputs": [],
   "source": [
    "import cv2\n",
    "import numpy as np\n",
    "import os"
   ]
  },
  {
   "cell_type": "code",
   "execution_count": 2,
   "metadata": {},
   "outputs": [],
   "source": [
    "def label(img_path):\n",
    "    img = cv2.imread(img_path)\n",
    "    coordinate = []\n",
    "    def on_EVENT_LBUTTONDOWN(event, x, y, flags, param):\n",
    "        if event == cv2.EVENT_LBUTTONDOWN:\n",
    "            xy = \"%d,%d\" % (x, y)  \n",
    "            coordinate.append([x,y])\n",
    "            cv2.circle(img, (x, y), 1, (0, 0, 155), thickness = -1)\n",
    "            cv2.putText(img, xy, (x, y), cv2.FONT_HERSHEY_PLAIN,\n",
    "                        1.0, (0,0,0), thickness = 1)\n",
    "            cv2.imshow(\"image\", img)\n",
    "    cv2.namedWindow(\"image\")\n",
    "    cv2.setMouseCallback(\"image\", on_EVENT_LBUTTONDOWN)\n",
    "    cv2.imshow(\"image\", img)\n",
    "    cv2.waitKey(0)\n",
    "    \n",
    "    path = os.path.split(img_path)\n",
    "    save_file = path[1].split('.')[0]\n",
    "    if path[0] == '':\n",
    "        save_file = save_file + '.txt'\n",
    "    else:\n",
    "        save_file = path[0] + '/' + save_file + '.txt'\n",
    "    output = open(save_file,'w',encoding='gbk')\n",
    "    #output.write('name,gender,status,age\\n')\n",
    "    for row in coordinate:\n",
    "        rowtxt = '{}\\t{}'.format(row[0],row[1])\n",
    "        output.write(rowtxt)\n",
    "        output.write('\\n')\n",
    "    output.close()\n",
    "    #return a, b\n",
    "#cv2.destroyWindow(\"image\")"
   ]
  },
  {
   "cell_type": "code",
   "execution_count": 5,
   "metadata": {},
   "outputs": [],
   "source": [
    "#img = cv2.imread('TRANCOS_v3/TRANCOS_v3/images/image-1-000001.jpg')\n",
    "label('IMG_1.jpg')"
   ]
  },
  {
   "cell_type": "code",
   "execution_count": 7,
   "metadata": {},
   "outputs": [],
   "source": [
    "data_path = 'image'\n",
    "camera_list = []\n",
    "for data in sorted(os.listdir(data_path)):\n",
    "    camera_list.append(data)\n",
    "    '''for img in sorted(os.listdir(data)):\n",
    "        print(img)'''"
   ]
  },
  {
   "cell_type": "code",
   "execution_count": 3,
   "metadata": {},
   "outputs": [],
   "source": [
    "path = 'image/11370/'\n",
    "for i in range(5):\n",
    "    file_path = path + str(i) + '.jpg'\n",
    "    basename = os.path.basename(file_path)\n",
    "    file = os.path.splitext(basename)[1] #.jpg\n",
    "    if file == '.jpg':\n",
    "        label(file_path)"
   ]
  },
  {
   "cell_type": "code",
   "execution_count": 16,
   "metadata": {},
   "outputs": [],
   "source": [
    "for i in range(39, len(camera_list)):\n",
    "    for data in sorted(os.listdir('./image/'+str(camera_list[i]))):\n",
    "        path = './image/'+str(camera_list[i]) +'/' + data\n",
    "        basename = os.path.basename(data)\n",
    "        file = os.path.splitext(basename)[1] #.jpg\n",
    "        if file == '.jpg':\n",
    "            label(path)"
   ]
  }
 ],
 "metadata": {
  "kernelspec": {
   "display_name": "meta",
   "language": "python",
   "name": "python3"
  },
  "language_info": {
   "codemirror_mode": {
    "name": "ipython",
    "version": 3
   },
   "file_extension": ".py",
   "mimetype": "text/x-python",
   "name": "python",
   "nbconvert_exporter": "python",
   "pygments_lexer": "ipython3",
   "version": "3.8.16"
  },
  "orig_nbformat": 4
 },
 "nbformat": 4,
 "nbformat_minor": 2
}
